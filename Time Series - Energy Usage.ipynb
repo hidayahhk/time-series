{
  "nbformat": 4,
  "nbformat_minor": 0,
  "metadata": {
    "colab": {
      "name": "Hidayah Husnul K_TS.ipynb",
      "provenance": []
    },
    "kernelspec": {
      "name": "python3",
      "display_name": "Python 3"
    },
    "language_info": {
      "name": "python"
    },
    "accelerator": "GPU"
  },
  "cells": [
    {
      "cell_type": "markdown",
      "metadata": {
        "id": "CbobaTrg9Gjn"
      },
      "source": [
        "Name : Hidayah Husnul Khotimah | Username : hidayahhk | Email : hidayahhk@gmail.com"
      ]
    },
    {
      "cell_type": "code",
      "metadata": {
        "colab": {
          "base_uri": "https://localhost:8080/"
        },
        "id": "dvl1M7FDwcIq",
        "outputId": "ac7a9b80-9c77-479c-d79b-51cdaf381d38"
      },
      "source": [
        "from google.colab import drive\n",
        "drive.mount('/content/drive', force_remount=True)"
      ],
      "execution_count": 2,
      "outputs": [
        {
          "output_type": "stream",
          "text": [
            "Go to this URL in a browser: https://accounts.google.com/o/oauth2/auth?client_id=947318989803-6bn6qk8qdgf4n4g3pfee6491hc0brc4i.apps.googleusercontent.com&redirect_uri=urn%3aietf%3awg%3aoauth%3a2.0%3aoob&scope=email%20https%3a%2f%2fwww.googleapis.com%2fauth%2fdocs.test%20https%3a%2f%2fwww.googleapis.com%2fauth%2fdrive%20https%3a%2f%2fwww.googleapis.com%2fauth%2fdrive.photos.readonly%20https%3a%2f%2fwww.googleapis.com%2fauth%2fpeopleapi.readonly%20https%3a%2f%2fwww.googleapis.com%2fauth%2fdrive.activity.readonly%20https%3a%2f%2fwww.googleapis.com%2fauth%2fexperimentsandconfigs%20https%3a%2f%2fwww.googleapis.com%2fauth%2fphotos.native&response_type=code\n",
            "\n",
            "Enter your authorization code:\n",
            "4/1AX4XfWjHpbo50o-_AWOzXDKShlJZYcmwZvmMsklFPpqyUNgP9DisvyU4ncM\n",
            "Mounted at /content/drive\n"
          ],
          "name": "stdout"
        }
      ]
    },
    {
      "cell_type": "code",
      "metadata": {
        "colab": {
          "base_uri": "https://localhost:8080/",
          "height": 415
        },
        "id": "azxoauWAchUl",
        "outputId": "b6d7f087-0d58-4bc7-c6a8-354ddf718784"
      },
      "source": [
        "import pandas as pd\n",
        "\n",
        "df = pd.read_csv('/content/drive/My Drive/D202.csv')\n",
        "df"
      ],
      "execution_count": 49,
      "outputs": [
        {
          "output_type": "execute_result",
          "data": {
            "text/html": [
              "<div>\n",
              "<style scoped>\n",
              "    .dataframe tbody tr th:only-of-type {\n",
              "        vertical-align: middle;\n",
              "    }\n",
              "\n",
              "    .dataframe tbody tr th {\n",
              "        vertical-align: top;\n",
              "    }\n",
              "\n",
              "    .dataframe thead th {\n",
              "        text-align: right;\n",
              "    }\n",
              "</style>\n",
              "<table border=\"1\" class=\"dataframe\">\n",
              "  <thead>\n",
              "    <tr style=\"text-align: right;\">\n",
              "      <th></th>\n",
              "      <th>TYPE</th>\n",
              "      <th>DATE</th>\n",
              "      <th>START TIME</th>\n",
              "      <th>END TIME</th>\n",
              "      <th>USAGE</th>\n",
              "      <th>UNITS</th>\n",
              "      <th>COST</th>\n",
              "      <th>NOTES</th>\n",
              "    </tr>\n",
              "  </thead>\n",
              "  <tbody>\n",
              "    <tr>\n",
              "      <th>0</th>\n",
              "      <td>Electric usage</td>\n",
              "      <td>10/22/2016</td>\n",
              "      <td>0:00</td>\n",
              "      <td>0:14</td>\n",
              "      <td>0.01</td>\n",
              "      <td>kWh</td>\n",
              "      <td>$0.00</td>\n",
              "      <td>NaN</td>\n",
              "    </tr>\n",
              "    <tr>\n",
              "      <th>1</th>\n",
              "      <td>Electric usage</td>\n",
              "      <td>10/22/2016</td>\n",
              "      <td>0:15</td>\n",
              "      <td>0:29</td>\n",
              "      <td>0.01</td>\n",
              "      <td>kWh</td>\n",
              "      <td>$0.00</td>\n",
              "      <td>NaN</td>\n",
              "    </tr>\n",
              "    <tr>\n",
              "      <th>2</th>\n",
              "      <td>Electric usage</td>\n",
              "      <td>10/22/2016</td>\n",
              "      <td>0:30</td>\n",
              "      <td>0:44</td>\n",
              "      <td>0.01</td>\n",
              "      <td>kWh</td>\n",
              "      <td>$0.00</td>\n",
              "      <td>NaN</td>\n",
              "    </tr>\n",
              "    <tr>\n",
              "      <th>3</th>\n",
              "      <td>Electric usage</td>\n",
              "      <td>10/22/2016</td>\n",
              "      <td>0:45</td>\n",
              "      <td>0:59</td>\n",
              "      <td>0.01</td>\n",
              "      <td>kWh</td>\n",
              "      <td>$0.00</td>\n",
              "      <td>NaN</td>\n",
              "    </tr>\n",
              "    <tr>\n",
              "      <th>4</th>\n",
              "      <td>Electric usage</td>\n",
              "      <td>10/22/2016</td>\n",
              "      <td>1:00</td>\n",
              "      <td>1:14</td>\n",
              "      <td>0.01</td>\n",
              "      <td>kWh</td>\n",
              "      <td>$0.00</td>\n",
              "      <td>NaN</td>\n",
              "    </tr>\n",
              "    <tr>\n",
              "      <th>...</th>\n",
              "      <td>...</td>\n",
              "      <td>...</td>\n",
              "      <td>...</td>\n",
              "      <td>...</td>\n",
              "      <td>...</td>\n",
              "      <td>...</td>\n",
              "      <td>...</td>\n",
              "      <td>...</td>\n",
              "    </tr>\n",
              "    <tr>\n",
              "      <th>70363</th>\n",
              "      <td>Electric usage</td>\n",
              "      <td>10/24/2018</td>\n",
              "      <td>22:45</td>\n",
              "      <td>22:59</td>\n",
              "      <td>0.02</td>\n",
              "      <td>kWh</td>\n",
              "      <td>$0.00</td>\n",
              "      <td>NaN</td>\n",
              "    </tr>\n",
              "    <tr>\n",
              "      <th>70364</th>\n",
              "      <td>Electric usage</td>\n",
              "      <td>10/24/2018</td>\n",
              "      <td>23:00</td>\n",
              "      <td>23:14</td>\n",
              "      <td>0.03</td>\n",
              "      <td>kWh</td>\n",
              "      <td>$0.01</td>\n",
              "      <td>NaN</td>\n",
              "    </tr>\n",
              "    <tr>\n",
              "      <th>70365</th>\n",
              "      <td>Electric usage</td>\n",
              "      <td>10/24/2018</td>\n",
              "      <td>23:15</td>\n",
              "      <td>23:29</td>\n",
              "      <td>0.03</td>\n",
              "      <td>kWh</td>\n",
              "      <td>$0.01</td>\n",
              "      <td>NaN</td>\n",
              "    </tr>\n",
              "    <tr>\n",
              "      <th>70366</th>\n",
              "      <td>Electric usage</td>\n",
              "      <td>10/24/2018</td>\n",
              "      <td>23:30</td>\n",
              "      <td>23:44</td>\n",
              "      <td>0.03</td>\n",
              "      <td>kWh</td>\n",
              "      <td>$0.01</td>\n",
              "      <td>NaN</td>\n",
              "    </tr>\n",
              "    <tr>\n",
              "      <th>70367</th>\n",
              "      <td>Electric usage</td>\n",
              "      <td>10/24/2018</td>\n",
              "      <td>23:45</td>\n",
              "      <td>23:59</td>\n",
              "      <td>0.03</td>\n",
              "      <td>kWh</td>\n",
              "      <td>$0.01</td>\n",
              "      <td>NaN</td>\n",
              "    </tr>\n",
              "  </tbody>\n",
              "</table>\n",
              "<p>70368 rows × 8 columns</p>\n",
              "</div>"
            ],
            "text/plain": [
              "                 TYPE        DATE START TIME  ... UNITS    COST NOTES\n",
              "0      Electric usage  10/22/2016       0:00  ...   kWh  $0.00    NaN\n",
              "1      Electric usage  10/22/2016       0:15  ...   kWh  $0.00    NaN\n",
              "2      Electric usage  10/22/2016       0:30  ...   kWh  $0.00    NaN\n",
              "3      Electric usage  10/22/2016       0:45  ...   kWh  $0.00    NaN\n",
              "4      Electric usage  10/22/2016       1:00  ...   kWh  $0.00    NaN\n",
              "...               ...         ...        ...  ...   ...     ...   ...\n",
              "70363  Electric usage  10/24/2018      22:45  ...   kWh  $0.00    NaN\n",
              "70364  Electric usage  10/24/2018      23:00  ...   kWh  $0.01    NaN\n",
              "70365  Electric usage  10/24/2018      23:15  ...   kWh  $0.01    NaN\n",
              "70366  Electric usage  10/24/2018      23:30  ...   kWh  $0.01    NaN\n",
              "70367  Electric usage  10/24/2018      23:45  ...   kWh  $0.01    NaN\n",
              "\n",
              "[70368 rows x 8 columns]"
            ]
          },
          "metadata": {
            "tags": []
          },
          "execution_count": 49
        }
      ]
    },
    {
      "cell_type": "code",
      "metadata": {
        "colab": {
          "base_uri": "https://localhost:8080/"
        },
        "id": "Vw6TzS1D-4eb",
        "outputId": "c5d017af-5bde-47e6-f534-aa66b97c14a2"
      },
      "source": [
        "df.shape"
      ],
      "execution_count": 50,
      "outputs": [
        {
          "output_type": "execute_result",
          "data": {
            "text/plain": [
              "(70368, 8)"
            ]
          },
          "metadata": {
            "tags": []
          },
          "execution_count": 50
        }
      ]
    },
    {
      "cell_type": "code",
      "metadata": {
        "colab": {
          "base_uri": "https://localhost:8080/"
        },
        "id": "JZeEu8qow9Of",
        "outputId": "16415365-cbec-43ab-ec40-c3f9659d4b2e"
      },
      "source": [
        "df.isnull().sum()"
      ],
      "execution_count": 51,
      "outputs": [
        {
          "output_type": "execute_result",
          "data": {
            "text/plain": [
              "TYPE              0\n",
              "DATE              0\n",
              "START TIME        0\n",
              "END TIME          0\n",
              "USAGE             0\n",
              "UNITS             0\n",
              "COST              0\n",
              "NOTES         70368\n",
              "dtype: int64"
            ]
          },
          "metadata": {
            "tags": []
          },
          "execution_count": 51
        }
      ]
    },
    {
      "cell_type": "code",
      "metadata": {
        "id": "6wSvxIHRxN2u"
      },
      "source": [
        "dates = df['DATE'].values\n",
        "usage  = df['USAGE'].values"
      ],
      "execution_count": 53,
      "outputs": []
    },
    {
      "cell_type": "code",
      "metadata": {
        "colab": {
          "base_uri": "https://localhost:8080/",
          "height": 341
        },
        "id": "7DF4IxCBx48E",
        "outputId": "febbdc43-3e92-4e40-8deb-fda1593342f5"
      },
      "source": [
        "import matplotlib.pyplot as plt\n",
        "\n",
        "plt.figure(figsize=(15,5))\n",
        "plt.plot(dates, usage)\n",
        "plt.title('Usage',\n",
        "          fontsize=20);"
      ],
      "execution_count": 54,
      "outputs": [
        {
          "output_type": "display_data",
          "data": {
            "image/png": "[encoded data removed]",
            "text/plain": [
              "<Figure size 1080x360 with 1 Axes>"
            ]
          },
          "metadata": {
            "tags": [],
            "needs_background": "light"
          }
        }
      ]
    },
    {
      "cell_type": "code",
      "metadata": {
        "id": "26dgJw4qz60T"
      },
      "source": [
        "from sklearn.model_selection import train_test_split\n",
        "\n",
        "X_train, X_test, y_train, y_test = train_test_split(usage, dates, test_size=0.2)"
      ],
      "execution_count": 64,
      "outputs": []
    },
    {
      "cell_type": "code",
      "metadata": {
        "id": "YcDDhVGbyYLa"
      },
      "source": [
        "import tensorflow as tf\n",
        "\n",
        "def windowed_dataset(series, window_size, batch_size, shuffle_buffer):\n",
        "    series = tf.expand_dims(series, axis=-1)\n",
        "    ds = tf.data.Dataset.from_tensor_slices(series)\n",
        "    ds = ds.window(window_size + 1, shift=1, drop_remainder=True)\n",
        "    ds = ds.flat_map(lambda w: w.batch(window_size + 1))\n",
        "    ds = ds.shuffle(shuffle_buffer)\n",
        "    ds = ds.map(lambda w: (w[:-1], w[-1:]))\n",
        "    return ds.batch(batch_size).prefetch(1)"
      ],
      "execution_count": 65,
      "outputs": []
    },
    {
      "cell_type": "code",
      "metadata": {
        "id": "PLOn21DK0hZt"
      },
      "source": [
        "tf.random.set_seed(51)\n",
        "train_set = windowed_dataset(X_train, window_size=64, batch_size=100, shuffle_buffer=1000)\n",
        "validation_set = windowed_dataset(X_test, window_size=64, batch_size=100, shuffle_buffer=1000)"
      ],
      "execution_count": 66,
      "outputs": []
    },
    {
      "cell_type": "code",
      "metadata": {
        "id": "AqB0tjfAyfBm"
      },
      "source": [
        "model = tf.keras.models.Sequential([\n",
        "  tf.keras.layers.Conv1D(filters=60, kernel_size=5, strides=1, padding='causal', activation='relu', input_shape=[None, 1]),\n",
        "  tf.keras.layers.LSTM(60, return_sequences=True),\n",
        "  tf.keras.layers.LSTM(60),\n",
        "  tf.keras.layers.Dense(30, activation=\"relu\"),\n",
        "  tf.keras.layers.Dense(10, activation=\"relu\"),\n",
        "  tf.keras.layers.Dense(1),\n",
        "])"
      ],
      "execution_count": 71,
      "outputs": []
    },
    {
      "cell_type": "code",
      "metadata": {
        "id": "_IPx9gOqicVr",
        "outputId": "5c39ae27-0f39-4e4e-b2da-a9c8b440189d",
        "colab": {
          "base_uri": "https://localhost:8080/"
        }
      },
      "source": [
        "minMAE = (df['USAGE'].max() - df['USAGE'].min()) * (10/100)\n",
        "minMAE"
      ],
      "execution_count": 74,
      "outputs": [
        {
          "output_type": "execute_result",
          "data": {
            "text/plain": [
              "0.236"
            ]
          },
          "metadata": {
            "tags": []
          },
          "execution_count": 74
        }
      ]
    },
    {
      "cell_type": "code",
      "metadata": {
        "id": "v01suWSJ746N"
      },
      "source": [
        "initial_learning_rate = 0.01\n",
        "epochs = 20\n",
        "decay = initial_learning_rate / epochs\n",
        "\n",
        "def lr_time_based_decay(epoch, lr):\n",
        "    return lr * 1 / (1 + decay * epoch)"
      ],
      "execution_count": 68,
      "outputs": []
    },
    {
      "cell_type": "code",
      "metadata": {
        "colab": {
          "base_uri": "https://localhost:8080/"
        },
        "id": "KcXLZjLc1XwZ",
        "outputId": "cc7a278b-d3a8-4f8d-a5d3-429c4f9b0e06"
      },
      "source": [
        "optimizer = tf.keras.optimizers.SGD(learning_rate=1.0000e-04, momentum=0.9)\n",
        "\n",
        "model.compile(loss=tf.keras.losses.Huber(),\n",
        "              optimizer=optimizer,\n",
        "              metrics=[\"mae\"])\n",
        "\n",
        "history = model.fit(train_set, epochs=20, callbacks=[tf.keras.callbacks.LearningRateScheduler(lr_time_based_decay)], validation_data=validation_set)"
      ],
      "execution_count": 72,
      "outputs": [
        {
          "output_type": "stream",
          "text": [
            "Epoch 1/20\n",
            "563/563 [==============================] - 26s 39ms/step - loss: 0.0211 - mae: 0.1037 - val_loss: 0.0220 - val_mae: 0.1132\n",
            "Epoch 2/20\n",
            "563/563 [==============================] - 21s 38ms/step - loss: 0.0203 - mae: 0.1117 - val_loss: 0.0220 - val_mae: 0.1142\n",
            "Epoch 3/20\n",
            "563/563 [==============================] - 21s 38ms/step - loss: 0.0203 - mae: 0.1120 - val_loss: 0.0220 - val_mae: 0.1142\n",
            "Epoch 4/20\n",
            "563/563 [==============================] - 21s 38ms/step - loss: 0.0203 - mae: 0.1120 - val_loss: 0.0220 - val_mae: 0.1142\n",
            "Epoch 5/20\n",
            "563/563 [==============================] - 22s 38ms/step - loss: 0.0203 - mae: 0.1120 - val_loss: 0.0220 - val_mae: 0.1142\n",
            "Epoch 6/20\n",
            "563/563 [==============================] - 21s 38ms/step - loss: 0.0203 - mae: 0.1121 - val_loss: 0.0220 - val_mae: 0.1142\n",
            "Epoch 7/20\n",
            "563/563 [==============================] - 21s 38ms/step - loss: 0.0203 - mae: 0.1120 - val_loss: 0.0220 - val_mae: 0.1143\n",
            "Epoch 8/20\n",
            "563/563 [==============================] - 22s 38ms/step - loss: 0.0203 - mae: 0.1120 - val_loss: 0.0220 - val_mae: 0.1143\n",
            "Epoch 9/20\n",
            "563/563 [==============================] - 22s 38ms/step - loss: 0.0203 - mae: 0.1121 - val_loss: 0.0220 - val_mae: 0.1143\n",
            "Epoch 10/20\n",
            "563/563 [==============================] - 21s 38ms/step - loss: 0.0203 - mae: 0.1120 - val_loss: 0.0220 - val_mae: 0.1143\n",
            "Epoch 11/20\n",
            "563/563 [==============================] - 21s 38ms/step - loss: 0.0203 - mae: 0.1120 - val_loss: 0.0220 - val_mae: 0.1142\n",
            "Epoch 12/20\n",
            "563/563 [==============================] - 22s 38ms/step - loss: 0.0203 - mae: 0.1120 - val_loss: 0.0220 - val_mae: 0.1143\n",
            "Epoch 13/20\n",
            "563/563 [==============================] - 21s 38ms/step - loss: 0.0203 - mae: 0.1120 - val_loss: 0.0220 - val_mae: 0.1143\n",
            "Epoch 14/20\n",
            "563/563 [==============================] - 22s 38ms/step - loss: 0.0203 - mae: 0.1120 - val_loss: 0.0220 - val_mae: 0.1142\n",
            "Epoch 15/20\n",
            "563/563 [==============================] - 21s 38ms/step - loss: 0.0203 - mae: 0.1121 - val_loss: 0.0220 - val_mae: 0.1143\n",
            "Epoch 16/20\n",
            "563/563 [==============================] - 22s 38ms/step - loss: 0.0203 - mae: 0.1121 - val_loss: 0.0220 - val_mae: 0.1143\n",
            "Epoch 17/20\n",
            "563/563 [==============================] - 22s 38ms/step - loss: 0.0203 - mae: 0.1120 - val_loss: 0.0220 - val_mae: 0.1143\n",
            "Epoch 18/20\n",
            "563/563 [==============================] - 22s 38ms/step - loss: 0.0203 - mae: 0.1121 - val_loss: 0.0220 - val_mae: 0.1143\n",
            "Epoch 19/20\n",
            "563/563 [==============================] - 22s 38ms/step - loss: 0.0203 - mae: 0.1120 - val_loss: 0.0220 - val_mae: 0.1143\n",
            "Epoch 20/20\n",
            "563/563 [==============================] - 22s 38ms/step - loss: 0.0203 - mae: 0.1121 - val_loss: 0.0220 - val_mae: 0.1142\n"
          ],
          "name": "stdout"
        }
      ]
    },
    {
      "cell_type": "code",
      "metadata": {
        "colab": {
          "base_uri": "https://localhost:8080/",
          "height": 336
        },
        "id": "N8zTLijDdOjV",
        "outputId": "ea8598b0-891e-4ec3-de7a-4755e2b70aa6"
      },
      "source": [
        "import matplotlib.pyplot as plt\n",
        "\n",
        "mae = history.history['mae']\n",
        "val_mae = history.history['val_mae']\n",
        "loss = history.history['loss']\n",
        "val_loss = history.history['val_loss']\n",
        "epochs_range = range(len(mae))\n",
        "\n",
        "plt.figure(figsize=(13, 5))\n",
        "plt.subplot(1, 2, 1)\n",
        "plt.plot(epochs_range, mae, label='Training MAE')\n",
        "plt.plot(epochs_range, val_mae, label='Validation MAE')\n",
        "plt.legend(loc='upper right')\n",
        "plt.title('MAE')\n",
        "\n",
        "plt.subplot(1, 2, 2)\n",
        "plt.plot(epochs_range, loss, label='Training Loss')\n",
        "plt.plot(epochs_range, val_loss, label='Validation Loss')\n",
        "plt.legend(loc='upper right')\n",
        "plt.title('Loss')\n",
        "plt.show()"
      ],
      "execution_count": 73,
      "outputs": [
        {
          "output_type": "display_data",
          "data": {
            "image/png": "[encoded data removed]",
            "text/plain": [
              "<Figure size 936x360 with 2 Axes>"
            ]
          },
          "metadata": {
            "tags": [],
            "needs_background": "light"
          }
        }
      ]
    }
  ]
}